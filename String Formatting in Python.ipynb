{
 "cells": [
  {
   "cell_type": "markdown",
   "id": "045b2361",
   "metadata": {},
   "source": [
    "# String Formatting in Python\n",
    "\n",
    "Python String format() Method:-\n",
    "\n",
    "Python format() method is used to perform format operations on string. While formatting string a delimiter {} (braces) is used to replace it with the value. This delimeter either can contain index or positional argument.\n",
    "\n",
    "Signature\n",
    "\n",
    "format(*args, **kwargs)  \n",
    "\n",
    "Parameters\n",
    "\n",
    "*args : substring\n",
    "\n",
    "**kwargs : start index a range"
   ]
  },
  {
   "cell_type": "code",
   "execution_count": 1,
   "id": "ff083185",
   "metadata": {
    "scrolled": true
   },
   "outputs": [
    {
     "name": "stdout",
     "output_type": "stream",
     "text": [
      "Hello everyone\n"
     ]
    }
   ],
   "source": [
    "print(\"Hello everyone\")"
   ]
  },
  {
   "cell_type": "code",
   "execution_count": 3,
   "id": "cf0ff2c9",
   "metadata": {},
   "outputs": [],
   "source": [
    "def greeting(name):\n",
    "    return \"Hello {}.welcome to the community\".format(name)"
   ]
  },
  {
   "cell_type": "code",
   "execution_count": 6,
   "id": "62fe8678",
   "metadata": {},
   "outputs": [
    {
     "data": {
      "text/plain": [
       "'Hello Sunil.welcome to the community'"
      ]
     },
     "execution_count": 6,
     "metadata": {},
     "output_type": "execute_result"
    }
   ],
   "source": [
    "greeting('Sunil')"
   ]
  },
  {
   "cell_type": "code",
   "execution_count": 8,
   "id": "6dbbbfbf",
   "metadata": {},
   "outputs": [],
   "source": [
    "def welcome_email(name,age):\n",
    "    return \"welcome {}. Your age is {}\".format(name,age)"
   ]
  },
  {
   "cell_type": "code",
   "execution_count": 10,
   "id": "47a523ad",
   "metadata": {},
   "outputs": [
    {
     "data": {
      "text/plain": [
       "'welcome sunil. Your age is 25'"
      ]
     },
     "execution_count": 10,
     "metadata": {},
     "output_type": "execute_result"
    }
   ],
   "source": [
    "welcome_email(\"sunil\",25)"
   ]
  },
  {
   "cell_type": "code",
   "execution_count": 12,
   "id": "45dfdc82",
   "metadata": {},
   "outputs": [],
   "source": [
    "def welcome_email(name,age,height):\n",
    "    return \"welcome {}. Your age is {}. and your height is {}\".format(name,age,height)"
   ]
  },
  {
   "cell_type": "code",
   "execution_count": 13,
   "id": "f7db8312",
   "metadata": {},
   "outputs": [
    {
     "data": {
      "text/plain": [
       "'welcome Sunil. Your age is 25. and your height is 5.7'"
      ]
     },
     "execution_count": 13,
     "metadata": {},
     "output_type": "execute_result"
    }
   ],
   "source": [
    "welcome_email(\"Sunil\",25,5.7)"
   ]
  }
 ],
 "metadata": {
  "kernelspec": {
   "display_name": "Python 3",
   "language": "python",
   "name": "python3"
  },
  "language_info": {
   "codemirror_mode": {
    "name": "ipython",
    "version": 3
   },
   "file_extension": ".py",
   "mimetype": "text/x-python",
   "name": "python",
   "nbconvert_exporter": "python",
   "pygments_lexer": "ipython3",
   "version": "3.8.8"
  }
 },
 "nbformat": 4,
 "nbformat_minor": 5
}
